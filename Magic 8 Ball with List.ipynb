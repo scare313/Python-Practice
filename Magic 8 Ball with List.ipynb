{
 "cells": [
  {
   "cell_type": "code",
   "execution_count": 25,
   "metadata": {},
   "outputs": [
    {
     "name": "stdout",
     "output_type": "stream",
     "text": [
      "Very doubtful\n"
     ]
    }
   ],
   "source": [
    "import random\n",
    "messages = ['It is certain',\n",
    "'It is decidedly so',\n",
    "'Yes definitely',\n",
    "'Reply hazy try again',\n",
    "'Ask again later',\n",
    "'Concentrate and ask again',\n",
    "'My reply is no',\n",
    "'Outlook not so good',\n",
    "'Very doubtful']\n",
    "print(messages[random.randint(0, len(messages) - 1)])"
   ]
  },
  {
   "cell_type": "code",
   "execution_count": null,
   "metadata": {},
   "outputs": [],
   "source": []
  }
 ],
 "metadata": {
  "kernelspec": {
   "display_name": "Python 3",
   "language": "python",
   "name": "python3"
  },
  "language_info": {
   "codemirror_mode": {
    "name": "ipython",
    "version": 3
   },
   "file_extension": ".py",
   "mimetype": "text/x-python",
   "name": "python",
   "nbconvert_exporter": "python",
   "pygments_lexer": "ipython3",
   "version": "3.7.0"
  }
 },
 "nbformat": 4,
 "nbformat_minor": 2
}
