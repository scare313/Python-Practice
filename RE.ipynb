{
 "cells": [
  {
   "cell_type": "code",
   "execution_count": 1,
   "metadata": {},
   "outputs": [],
   "source": [
    "#Using Regular Expressions\n",
    "import re"
   ]
  },
  {
   "cell_type": "code",
   "execution_count": 9,
   "metadata": {},
   "outputs": [],
   "source": [
    "phoneNumRegex = re.compile(r'\\d\\d\\d-\\d\\d\\d-\\d\\d\\d\\d')"
   ]
  },
  {
   "cell_type": "code",
   "execution_count": 3,
   "metadata": {},
   "outputs": [],
   "source": [
    "mo = phoneNumRegex.search('asasda 942-942-9422')"
   ]
  },
  {
   "cell_type": "code",
   "execution_count": 4,
   "metadata": {},
   "outputs": [
    {
     "name": "stdout",
     "output_type": "stream",
     "text": [
      "<re.Match object; span=(7, 19), match='942-942-9422'>\n"
     ]
    }
   ],
   "source": [
    "print(mo)"
   ]
  },
  {
   "cell_type": "code",
   "execution_count": 7,
   "metadata": {},
   "outputs": [
    {
     "name": "stdout",
     "output_type": "stream",
     "text": [
      "Phone Number Found : 942-942-9422\n"
     ]
    }
   ],
   "source": [
    "print('Phone Number Found : ' + mo.group())"
   ]
  },
  {
   "cell_type": "code",
   "execution_count": 15,
   "metadata": {},
   "outputs": [
    {
     "name": "stdout",
     "output_type": "stream",
     "text": [
      "Area Code Found : 942\n",
      "Phone Number Found : 942-9422\n",
      "Full Phone Number Found : 942-942-9422\n",
      "Full Phone Number Found : 942-942-9422\n"
     ]
    }
   ],
   "source": [
    "#grouping with parenthesis\n",
    "\n",
    "phoneNumRegexGrouping = re.compile(r'(\\d\\d\\d)-(\\d\\d\\d-\\d\\d\\d\\d)')\n",
    "mo = phoneNumRegexGrouping.search('asasda 942-942-9422')\n",
    "print('Area Code Found : ' + mo.group(1))\n",
    "print('Phone Number Found : ' + mo.group(2))\n",
    "print('Full Phone Number Found : ' + mo.group(0))\n",
    "print('Full Phone Number Found : ' + mo.group())"
   ]
  },
  {
   "cell_type": "code",
   "execution_count": 17,
   "metadata": {},
   "outputs": [
    {
     "name": "stdout",
     "output_type": "stream",
     "text": [
      "942 942-9422\n"
     ]
    }
   ],
   "source": [
    "#Usings Group*s*\n",
    "\n",
    "areaCode,PhoneNo = mo.groups()\n",
    "print(areaCode,PhoneNo)"
   ]
  },
  {
   "cell_type": "code",
   "execution_count": 25,
   "metadata": {},
   "outputs": [
    {
     "name": "stdout",
     "output_type": "stream",
     "text": [
      "Batman\n",
      "Tina Fey\n"
     ]
    }
   ],
   "source": [
    "#Matching Multiple Groups with the Pipe\n",
    "#returns 1 occurance or passed strings\n",
    "\n",
    "heroRegex = re.compile(r'Batman|Tina Fey')\n",
    "mo1 = heroRegex.search('Batman and Tina Fey.')\n",
    "print(mo1.group())\n",
    "mo2 = heroRegex.search('Tina Fey and Batman.')\n",
    "print(mo2.group())\n"
   ]
  },
  {
   "cell_type": "code",
   "execution_count": 30,
   "metadata": {},
   "outputs": [
    {
     "name": "stdout",
     "output_type": "stream",
     "text": [
      "Batmobile\n",
      "mobile\n"
     ]
    }
   ],
   "source": [
    "#Batregex Common prefix = 'Bat'\n",
    "\n",
    "batRegex = re.compile(r'Bat(man|mobile|copter|bat)')\n",
    "mo = batRegex.search('Batmobile lost a wheel')\n",
    "print(mo.group())\n",
    "print(mo.group(1))"
   ]
  },
  {
   "cell_type": "code",
   "execution_count": 35,
   "metadata": {},
   "outputs": [
    {
     "name": "stdout",
     "output_type": "stream",
     "text": [
      "Batman\n",
      "Batwoman\n"
     ]
    }
   ],
   "source": [
    "#Optional Matching with the Question Mark\n",
    "\n",
    "batRegexOptional = re.compile(r'Bat(wo)?man')\n",
    "mo = batRegexOptional.search('The Adventure of Batman')\n",
    "print(mo.group())\n",
    "mo1 = batRegexOptional.search('The Adventure of Batwoman')\n",
    "print(mo1.group())"
   ]
  },
  {
   "cell_type": "code",
   "execution_count": 39,
   "metadata": {},
   "outputs": [
    {
     "name": "stdout",
     "output_type": "stream",
     "text": [
      "Batman\n",
      "Batwowowowowoman\n"
     ]
    }
   ],
   "source": [
    "#Matching Zero or More with the Star '*'\n",
    "\n",
    "batRegexStar = re.compile(r'Bat(wo)*man')\n",
    "mo = batRegexStar.search('The Adventure of Batman')\n",
    "print(mo.group())\n",
    "mo1 = batRegexStar.search('The Adventure of Batwowowowowoman')\n",
    "print(mo1.group())"
   ]
  },
  {
   "cell_type": "code",
   "execution_count": 41,
   "metadata": {},
   "outputs": [
    {
     "name": "stdout",
     "output_type": "stream",
     "text": [
      "Batwoman\n",
      "Batwowowowowoman\n"
     ]
    }
   ],
   "source": [
    "#Matching One or More with the Plus '+'\n",
    "\n",
    "batRegexPlus = re.compile(r'Bat(wo)+man')\n",
    "mo = batRegexPlus.search('The Adventure of Batwoman')\n",
    "print(mo.group())\n",
    "mo1 = batRegexPlus.search('The Adventure of Batwowowowowoman')\n",
    "print(mo1.group())"
   ]
  },
  {
   "cell_type": "code",
   "execution_count": 44,
   "metadata": {},
   "outputs": [
    {
     "name": "stdout",
     "output_type": "stream",
     "text": [
      "HaHaHa\n"
     ]
    }
   ],
   "source": [
    "#Matching Specific Repetitions with Curly Brackets '{}'\n",
    "\n",
    "hahaRegex = re.compile(r'(Ha){3}')\n",
    "mo = hahaRegex.search('HaHaHa Bahahah')\n",
    "print(mo.group())"
   ]
  },
  {
   "cell_type": "code",
   "execution_count": null,
   "metadata": {},
   "outputs": [],
   "source": []
  }
 ],
 "metadata": {
  "kernelspec": {
   "display_name": "Python 3",
   "language": "python",
   "name": "python3"
  },
  "language_info": {
   "codemirror_mode": {
    "name": "ipython",
    "version": 3
   },
   "file_extension": ".py",
   "mimetype": "text/x-python",
   "name": "python",
   "nbconvert_exporter": "python",
   "pygments_lexer": "ipython3",
   "version": "3.7.0"
  }
 },
 "nbformat": 4,
 "nbformat_minor": 2
}
