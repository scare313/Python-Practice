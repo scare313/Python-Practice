{
 "cells": [
  {
   "cell_type": "code",
   "execution_count": 4,
   "metadata": {},
   "outputs": [],
   "source": [
    "class Robot:\n",
    "    \n",
    "    def __init__(self, givenName, givenColor, givenWeight):\n",
    "        self.name = givenName\n",
    "        self.color = givenColor\n",
    "        self.weight = givenWeight\n",
    "    \n",
    "    def introduce_self(self): #add self to every method of class\n",
    "        print(\"My name is \" +self.name) #self = this in java\n",
    "\n",
    "r3 = Robot(\"Oggy\", \"Black\", 20)\n",
    "r4 = Robot(\"Jack\", \"Green\", 40)"
   ]
  },
  {
   "cell_type": "code",
   "execution_count": 1,
   "metadata": {},
   "outputs": [],
   "source": [
    "class Person:\n",
    "    \n",
    "    def __init__(self, n, p, i):\n",
    "        self.name = n\n",
    "        self.personality = p\n",
    "        self.is_sitting = i\n",
    "    \n",
    "    def sit_down(self):\n",
    "        self.is_sitting = True\n",
    "        \n",
    "    def stand_up(self):\n",
    "        self.is_sitting = False"
   ]
  },
  {
   "cell_type": "code",
   "execution_count": 2,
   "metadata": {},
   "outputs": [],
   "source": [
    "p1 = Person(\"Alice\", \"Aggressive\", False)\n",
    "p2 = Person(\"Becky\", \"Talkative\", True)"
   ]
  },
  {
   "cell_type": "code",
   "execution_count": 5,
   "metadata": {},
   "outputs": [],
   "source": [
    "p1.robotOwned = r4\n",
    "p2.robotOwned = r3"
   ]
  },
  {
   "cell_type": "code",
   "execution_count": 6,
   "metadata": {},
   "outputs": [
    {
     "name": "stdout",
     "output_type": "stream",
     "text": [
      "My name is Jack\n"
     ]
    }
   ],
   "source": [
    "p1.robotOwned.introduce_self()"
   ]
  },
  {
   "cell_type": "code",
   "execution_count": 7,
   "metadata": {},
   "outputs": [
    {
     "name": "stdout",
     "output_type": "stream",
     "text": [
      "My name is Oggy\n"
     ]
    }
   ],
   "source": [
    "p2.robotOwned.introduce_self()"
   ]
  },
  {
   "cell_type": "code",
   "execution_count": null,
   "metadata": {},
   "outputs": [],
   "source": []
  }
 ],
 "metadata": {
  "kernelspec": {
   "display_name": "Python 3",
   "language": "python",
   "name": "python3"
  },
  "language_info": {
   "codemirror_mode": {
    "name": "ipython",
    "version": 3
   },
   "file_extension": ".py",
   "mimetype": "text/x-python",
   "name": "python",
   "nbconvert_exporter": "python",
   "pygments_lexer": "ipython3",
   "version": "3.7.0"
  }
 },
 "nbformat": 4,
 "nbformat_minor": 2
}
