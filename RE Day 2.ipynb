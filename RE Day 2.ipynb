{
 "cells": [
  {
   "cell_type": "code",
   "execution_count": 2,
   "metadata": {},
   "outputs": [
    {
     "name": "stdout",
     "output_type": "stream",
     "text": [
      "HaHaHaHaHa\n"
     ]
    }
   ],
   "source": [
    "#Python uses greedy by default \n",
    "#Greedy\n",
    "import re\n",
    "greedyHaRegex = re.compile(r'(Ha){3,5}')\n",
    "mo = greedyHaRegex.search('HaHaHaHaHa')\n",
    "print(mo.group())"
   ]
  },
  {
   "cell_type": "code",
   "execution_count": 3,
   "metadata": {},
   "outputs": [
    {
     "name": "stdout",
     "output_type": "stream",
     "text": [
      "HaHaHa\n"
     ]
    }
   ],
   "source": [
    "#nonGreedy\n",
    "nonGreedyHaRegex = re.compile(r'(Ha){3,5}?')\n",
    "mo1 = nonGreedyHaRegex.search('HaHaHaHaHa')\n",
    "print(mo1.group())"
   ]
  },
  {
   "cell_type": "code",
   "execution_count": 4,
   "metadata": {},
   "outputs": [
    {
     "name": "stdout",
     "output_type": "stream",
     "text": [
      "['Ha', 'Ha', 'Ha', 'Ha', 'Ha']\n"
     ]
    }
   ],
   "source": [
    "#findAll to find all Matched \n",
    "nonGreedyHaRegex = re.compile(r'Ha')\n",
    "mo1 = nonGreedyHaRegex.findall('HaHaHaHaHa')\n",
    "print(mo1)"
   ]
  },
  {
   "cell_type": "code",
   "execution_count": 5,
   "metadata": {},
   "outputs": [
    {
     "data": {
      "text/plain": [
       "['12 drummers',\n",
       " '11 pipers',\n",
       " '10 lords',\n",
       " '9 ladies',\n",
       " '8 maids',\n",
       " '7 swans',\n",
       " '6 geese',\n",
       " '5 rings',\n",
       " '4 birds',\n",
       " '3 hens',\n",
       " '2 doves',\n",
       " '1 partridge']"
      ]
     },
     "execution_count": 5,
     "metadata": {},
     "output_type": "execute_result"
    }
   ],
   "source": [
    "#Character Classes\n",
    "\"\"\"\n",
    "Table 7-1: Shorthand Codes for Common Character Classes\n",
    "Shorthand character class Represents\n",
    "\n",
    "\\d Any numeric digit from 0 to 9.\n",
    "\\D Any character that is not a numeric digit from 0 to 9.\n",
    "\\w Any letter, numeric digit, or the underscore character.(Think of this as matching “word” characters.)\n",
    "\\W Any character that is not a letter, numeric digit, or the underscore character.\n",
    "\\s Any space, tab, or newline character. (Think of this as matching “space” characters.)\n",
    "\\S Any character that is not a space, tab, or newline.\"\"\"\n",
    "\n",
    "xmastreeRegex = re.compile(r'\\d+\\s\\w+')\n",
    "xmastreeRegex.findall('''12 drummers, 11 pipers, 10 lords, 9 ladies, 8 maids, 7 swans, \n",
    "6 geese, 5 rings, 4 birds, 3 hens, 2 doves, 1 partridge''')\n",
    "\n"
   ]
  },
  {
   "cell_type": "code",
   "execution_count": 10,
   "metadata": {},
   "outputs": [
    {
     "name": "stdout",
     "output_type": "stream",
     "text": [
      "['o', 'i', 'i', 'i']\n",
      "['D', 'g', ' ', 's', ' ', 'S', 't', 't', 'n', 'g']\n"
     ]
    }
   ],
   "source": [
    "#Making Your Own Character Classes\n",
    "\n",
    "vowelRegex = re.compile(r'[aeiouAEIOU]')\n",
    "mo = vowelRegex.findall('Dog is Sitting')\n",
    "print(mo)\n",
    "\n",
    "#Negative Character Class\n",
    "vowelRegexNeg = re.compile(r'[^aeiouAEIOU]')\n",
    "mo1 = vowelRegexNeg.findall('Dog is Sitting')\n",
    "print(mo1)\n"
   ]
  },
  {
   "cell_type": "code",
   "execution_count": 15,
   "metadata": {},
   "outputs": [
    {
     "name": "stdout",
     "output_type": "stream",
     "text": [
      "Hello\n",
      "None\n",
      "World\n",
      "None\n"
     ]
    }
   ],
   "source": [
    "#The Caret and Dollar Sign Characters\n",
    "# ' ^ ' to indicate beginning of String\n",
    "\n",
    "beginningRegex = re.compile(r'^Hello')\n",
    "mo = beginningRegex.search('Hello World!!')\n",
    "print(mo.group())\n",
    "\n",
    "mo1 = beginningRegex.search('World Hello!!')\n",
    "print(mo1)\n",
    "\n",
    "# ' $ ' to indicate end of string\n",
    "\n",
    "endRegex = re.compile(r'World$')\n",
    "mo2 = endRegex.search('Hello World')\n",
    "print(mo2.group())\n",
    "\n",
    "mo3 = endRegex.search('World Hello')\n",
    "print(mo3)"
   ]
  },
  {
   "cell_type": "code",
   "execution_count": 16,
   "metadata": {},
   "outputs": [
    {
     "name": "stdout",
     "output_type": "stream",
     "text": [
      "['cat', 'hat', 'sat', 'lat', 'mat']\n"
     ]
    }
   ],
   "source": [
    "#The Wildcard Character .(dot) \n",
    "\n",
    "atRegex = re.compile(r'.at')\n",
    "print(atRegex.findall('The cat in the hat sat on the flat mat.'))"
   ]
  },
  {
   "cell_type": "code",
   "execution_count": 17,
   "metadata": {},
   "outputs": [
    {
     "name": "stdout",
     "output_type": "stream",
     "text": [
      "Deepak\n",
      "Mistry\n"
     ]
    }
   ],
   "source": [
    "#matching all with .(dot)\n",
    "\n",
    "nameRegex = re.compile(r'Name : (.*) Last Name = (.*)')\n",
    "mo = nameRegex.search('Name : Deepak Last Name = Mistry')\n",
    "print(mo.group(1))\n",
    "print(mo.group(2))"
   ]
  },
  {
   "cell_type": "code",
   "execution_count": 27,
   "metadata": {},
   "outputs": [
    {
     "name": "stdout",
     "output_type": "stream",
     "text": [
      "I am a Man \n",
      "========\n",
      "After Using re.DOTALL\n",
      "=========\n",
      "I am a Man \n",
      "I am a Boy\n"
     ]
    }
   ],
   "source": [
    "#Matching Newlines with the Dot Character\n",
    "\n",
    "newLineRegex = re.compile(r'.*')\n",
    "mo = newLineRegex.search('I am a Man \\n I am a Boy')\n",
    "print(mo.group())\n",
    "\n",
    "newLineRegex = re.compile(r'.*',re.DOTALL)\n",
    "print('\\nAfter Using re.DOTALL\\n'.center(40,'='))\n",
    "mo = newLineRegex.search('I am a Man \\nI am a Boy')\n",
    "print(mo.group())"
   ]
  },
  {
   "cell_type": "code",
   "execution_count": null,
   "metadata": {},
   "outputs": [],
   "source": []
  }
 ],
 "metadata": {
  "kernelspec": {
   "display_name": "Python 3",
   "language": "python",
   "name": "python3"
  },
  "language_info": {
   "codemirror_mode": {
    "name": "ipython",
    "version": 3
   },
   "file_extension": ".py",
   "mimetype": "text/x-python",
   "name": "python",
   "nbconvert_exporter": "python",
   "pygments_lexer": "ipython3",
   "version": "3.7.0"
  }
 },
 "nbformat": 4,
 "nbformat_minor": 2
}
