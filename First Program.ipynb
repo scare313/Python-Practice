{
 "cells": [
  {
   "cell_type": "code",
   "execution_count": 1,
   "metadata": {},
   "outputs": [],
   "source": [
    "#This Program says hello World and Asks for my Name"
   ]
  },
  {
   "cell_type": "code",
   "execution_count": 3,
   "metadata": {},
   "outputs": [
    {
     "name": "stdout",
     "output_type": "stream",
     "text": [
      "Hello, World!\n",
      "What is your name ?\n",
      "Deepak\n",
      "It's good to meet you Deepak\n",
      "The length of your name is : \n",
      "6\n",
      "What is your age ?\n",
      "20\n",
      "You will be 21 in a year\n"
     ]
    }
   ],
   "source": [
    "print('Hello, World!')\n",
    "print('What is your name ?')\n",
    "myName = input()\n",
    "print('It\\'s good to meet you '+myName)\n",
    "print('The length of your name is : ')\n",
    "print(len(myName))\n",
    "print('What is your age ?')\n",
    "myAge = input()\n",
    "print('You will be '+str(int(myAge)+1)+' in a year')"
   ]
  },
  {
   "cell_type": "code",
   "execution_count": null,
   "metadata": {},
   "outputs": [],
   "source": []
  }
 ],
 "metadata": {
  "kernelspec": {
   "display_name": "Python 3",
   "language": "python",
   "name": "python3"
  },
  "language_info": {
   "codemirror_mode": {
    "name": "ipython",
    "version": 3
   },
   "file_extension": ".py",
   "mimetype": "text/x-python",
   "name": "python",
   "nbconvert_exporter": "python",
   "pygments_lexer": "ipython3",
   "version": "3.7.0"
  }
 },
 "nbformat": 4,
 "nbformat_minor": 2
}
