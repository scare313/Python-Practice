{
 "cells": [
  {
   "cell_type": "code",
   "execution_count": 2,
   "metadata": {},
   "outputs": [],
   "source": [
    "allGuests = { 'Alice' : {'Apples' : 5 , 'Pretzels' : 10 },\n",
    "            'Bob' : {'Sandwitches' : 2 , 'Apples' : 12 },\n",
    "            'Carol' : {'Cups' : 2 , 'Apple Pie' : 2}}"
   ]
  },
  {
   "cell_type": "code",
   "execution_count": 8,
   "metadata": {},
   "outputs": [
    {
     "name": "stdout",
     "output_type": "stream",
     "text": [
      "Number of things being Brought are : \n",
      "- Apples 17\n",
      "- Sandwitches 2\n",
      "- Pretzels 10\n",
      "- Cups 2\n",
      "- Apple Pie 2\n"
     ]
    }
   ],
   "source": [
    "def totalBrought(guests, item) :\n",
    "    numBrought = 0\n",
    "    for k,v in guests.items():\n",
    "        numBrought = numBrought + v.get(item,0)\n",
    "    return numBrought\n",
    "\n",
    "print('Number of things being Brought are : ')\n",
    "print('- Apples ' + str(totalBrought(allGuests,'Apples')))\n",
    "print('- Sandwitches ' + str(totalBrought(allGuests,'Sandwitches')))\n",
    "print('- Pretzels ' + str(totalBrought(allGuests,'Pretzels')))\n",
    "print('- Cups ' + str(totalBrought(allGuests,'Cups')))\n",
    "print('- Apple Pie ' + str(totalBrought(allGuests,'Apple Pie')))    "
   ]
  },
  {
   "cell_type": "code",
   "execution_count": null,
   "metadata": {},
   "outputs": [],
   "source": []
  },
  {
   "cell_type": "code",
   "execution_count": null,
   "metadata": {},
   "outputs": [],
   "source": []
  }
 ],
 "metadata": {
  "kernelspec": {
   "display_name": "Python 3",
   "language": "python",
   "name": "python3"
  },
  "language_info": {
   "codemirror_mode": {
    "name": "ipython",
    "version": 3
   },
   "file_extension": ".py",
   "mimetype": "text/x-python",
   "name": "python",
   "nbconvert_exporter": "python",
   "pygments_lexer": "ipython3",
   "version": "3.7.0"
  }
 },
 "nbformat": 4,
 "nbformat_minor": 2
}
