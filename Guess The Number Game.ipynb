{
 "cells": [
  {
   "cell_type": "code",
   "execution_count": 4,
   "metadata": {},
   "outputs": [
    {
     "name": "stdout",
     "output_type": "stream",
     "text": [
      "I am thinking of a number between 1 to 20\n",
      "Take a Guess\n",
      "10\n",
      "Your Guess is too Low\n",
      "Take a Guess\n",
      "5\n",
      "Your Guess is too Low\n",
      "Take a Guess\n",
      "15\n",
      "Your Guess is too Low\n",
      "Take a Guess\n",
      "18\n",
      "Your Guess is too Low\n",
      "Take a Guess\n",
      "19\n",
      "Your Guess is too Low\n",
      "Take a Guess\n",
      "20\n",
      "Good Job!! You Guessed My Number in 6 guesses \n"
     ]
    }
   ],
   "source": [
    "#guess the number game\n",
    "\n",
    "import random\n",
    "secretNumber = random.randint(1,20)\n",
    "print('I am thinking of a number between 1 to 20')\n",
    "\n",
    "for guessesTaken in range(1,7):\n",
    "    print('Take a Guess')\n",
    "    guess = int(input())\n",
    "    \n",
    "    if guess < secretNumber :\n",
    "        print('Your Guess is too Low')\n",
    "    \n",
    "    elif guess > secretNumber :\n",
    "        print('Your Guess is too High')\n",
    "        \n",
    "    else :\n",
    "        break\n",
    "        \n",
    "if guess == secretNumber:\n",
    "    print('Good Job!! You Guessed My Number in ' + str(guessesTaken) + \" guesses \")\n",
    "    \n",
    "else : \n",
    "    print('Nope The Number I Was Thinking Was '+str(secretNumber))"
   ]
  },
  {
   "cell_type": "code",
   "execution_count": null,
   "metadata": {},
   "outputs": [],
   "source": []
  }
 ],
 "metadata": {
  "kernelspec": {
   "display_name": "Python 3",
   "language": "python",
   "name": "python3"
  },
  "language_info": {
   "codemirror_mode": {
    "name": "ipython",
    "version": 3
   },
   "file_extension": ".py",
   "mimetype": "text/x-python",
   "name": "python",
   "nbconvert_exporter": "python",
   "pygments_lexer": "ipython3",
   "version": "3.7.0"
  }
 },
 "nbformat": 4,
 "nbformat_minor": 2
}
