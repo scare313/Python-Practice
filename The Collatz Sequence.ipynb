{
 "cells": [
  {
   "cell_type": "code",
   "execution_count": 1,
   "metadata": {},
   "outputs": [],
   "source": [
    "def collatz(number) : \n",
    "    if number % 2 == 0 :\n",
    "        return number//2\n",
    "    elif number % 2 == 1 :\n",
    "        return 3 * number + 1"
   ]
  },
  {
   "cell_type": "code",
   "execution_count": null,
   "metadata": {},
   "outputs": [
    {
     "name": "stdout",
     "output_type": "stream",
     "text": [
      "3\n",
      "10\n",
      "4\n",
      "2\n",
      "5\n",
      "16\n",
      "a\n",
      "Value Error\n",
      "4\n",
      "2\n",
      "5\n",
      "16\n",
      "6\n",
      "3\n",
      "a\n",
      "Value Error\n",
      "s\n",
      "Value Error\n",
      "d\n",
      "Value Error\n",
      "sa\n",
      "Value Error\n",
      "a\n",
      "Value Error\n",
      "s\n",
      "Value Error\n"
     ]
    }
   ],
   "source": [
    "while(True):\n",
    "    num = input()\n",
    "    try :\n",
    "        ans = collatz(int(num))\n",
    "        print(ans)\n",
    "        if ans == 1:\n",
    "            break\n",
    "    except(ValueError):\n",
    "        print('Value Error')"
   ]
  },
  {
   "cell_type": "code",
   "execution_count": null,
   "metadata": {},
   "outputs": [],
   "source": []
  }
 ],
 "metadata": {
  "kernelspec": {
   "display_name": "Python 3",
   "language": "python",
   "name": "python3"
  },
  "language_info": {
   "codemirror_mode": {
    "name": "ipython",
    "version": 3
   },
   "file_extension": ".py",
   "mimetype": "text/x-python",
   "name": "python",
   "nbconvert_exporter": "python",
   "pygments_lexer": "ipython3",
   "version": "3.7.0"
  }
 },
 "nbformat": 4,
 "nbformat_minor": 2
}
