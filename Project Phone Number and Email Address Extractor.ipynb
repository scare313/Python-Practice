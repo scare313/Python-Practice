{
 "cells": [
  {
   "cell_type": "code",
   "execution_count": 7,
   "metadata": {},
   "outputs": [],
   "source": [
    "import re"
   ]
  },
  {
   "cell_type": "code",
   "execution_count": 36,
   "metadata": {},
   "outputs": [],
   "source": [
    "\n",
    "#Phone number Regex \n",
    "phoneNumRegex = re.compile(r'(\\+\\d{2}) ([0-9]{10})')\n"
   ]
  },
  {
   "cell_type": "code",
   "execution_count": 52,
   "metadata": {},
   "outputs": [],
   "source": [
    "emailIdRegex = re.compile(r'([a-zA-Z0-9._%+-]+@[a-zA-Z0-9._]+(\\.[a-zA-Z]{2,3}))')"
   ]
  },
  {
   "cell_type": "code",
   "execution_count": 54,
   "metadata": {},
   "outputs": [
    {
     "name": "stdout",
     "output_type": "stream",
     "text": [
      "+91-9422026557\n",
      "+91-9999999999\n",
      "deepak.mistry@outlook.com\n",
      "aaa@outlook.com\n"
     ]
    }
   ],
   "source": [
    "#find Matches\n",
    "clipboard = 'deepak.mistry@outlook.com phone number is +91 9422026557 aaa@outlook.com +91 9999999999'\n",
    "\n",
    "for groups in phoneNumRegex.findall(clipboard):\n",
    "    phoneNum = '-'.join([groups[0],groups[1]])\n",
    "    print(phoneNum)\n",
    "for groups in emailIdRegex.findall(clipboard):\n",
    "    print(groups[0])"
   ]
  },
  {
   "cell_type": "code",
   "execution_count": null,
   "metadata": {},
   "outputs": [],
   "source": []
  }
 ],
 "metadata": {
  "kernelspec": {
   "display_name": "Python 3",
   "language": "python",
   "name": "python3"
  },
  "language_info": {
   "codemirror_mode": {
    "name": "ipython",
    "version": 3
   },
   "file_extension": ".py",
   "mimetype": "text/x-python",
   "name": "python",
   "nbconvert_exporter": "python",
   "pygments_lexer": "ipython3",
   "version": "3.7.0"
  }
 },
 "nbformat": 4,
 "nbformat_minor": 2
}
