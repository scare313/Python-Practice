{
 "cells": [
  {
   "cell_type": "code",
   "execution_count": 11,
   "metadata": {},
   "outputs": [
    {
     "name": "stdout",
     "output_type": "stream",
     "text": [
      "Enter a name : (Blank to Quit)\n",
      "Deepak\n",
      "I do not have Birthday information for Deepak\n",
      "What is their Birthday\n",
      "27th March\n",
      "Database Updated Succesfully!!\n",
      "Enter a name : (Blank to Quit)\n",
      "Deepak\n",
      "27th March is the birthday Deepak\n",
      "Enter a name : (Blank to Quit)\n",
      "Bro\n",
      "I do not have Birthday information for Bro\n",
      "What is their Birthday\n",
      "1 Jan\n",
      "Database Updated Succesfully!!\n",
      "Enter a name : (Blank to Quit)\n",
      "Bro\n",
      "1 Jan is the birthday Bro\n",
      "Enter a name : (Blank to Quit)\n",
      "\n"
     ]
    }
   ],
   "source": [
    "birthdays = {}\n",
    "\n",
    "while True:\n",
    "    print('Enter a name : (Blank to Quit)')\n",
    "    name = input()\n",
    "    if name == '' :\n",
    "        break\n",
    "    \n",
    "    if name in birthdays :\n",
    "        print(birthdays[name] + ' is the birthday of' + name)\n",
    "    else :\n",
    "        print('I do not have Birthday information for ' + name)\n",
    "        print('What is their Birthday')\n",
    "        bday = input()\n",
    "        birthdays[name] = bday\n",
    "        print('Database Updated Succesfully!!')"
   ]
  },
  {
   "cell_type": "code",
   "execution_count": 12,
   "metadata": {},
   "outputs": [
    {
     "data": {
      "text/plain": [
       "{'Deepak': '27th March', 'Bro': '1 Jan'}"
      ]
     },
     "execution_count": 12,
     "metadata": {},
     "output_type": "execute_result"
    }
   ],
   "source": [
    "birthdays"
   ]
  },
  {
   "cell_type": "code",
   "execution_count": 13,
   "metadata": {},
   "outputs": [
    {
     "name": "stdout",
     "output_type": "stream",
     "text": [
      "Deepak\n",
      "Bro\n"
     ]
    }
   ],
   "source": [
    "for n in birthdays.keys():\n",
    "    print(n)"
   ]
  },
  {
   "cell_type": "code",
   "execution_count": 16,
   "metadata": {},
   "outputs": [
    {
     "name": "stdout",
     "output_type": "stream",
     "text": [
      "27th March\n",
      "1 Jan\n"
     ]
    }
   ],
   "source": [
    "for bday in birthdays.values():\n",
    "    print(bday)"
   ]
  },
  {
   "cell_type": "code",
   "execution_count": 17,
   "metadata": {},
   "outputs": [
    {
     "name": "stdout",
     "output_type": "stream",
     "text": [
      "('Deepak', '27th March')\n",
      "('Bro', '1 Jan')\n"
     ]
    }
   ],
   "source": [
    "for i in birthdays.items():\n",
    "    print(i)"
   ]
  },
  {
   "cell_type": "code",
   "execution_count": 19,
   "metadata": {},
   "outputs": [
    {
     "name": "stdout",
     "output_type": "stream",
     "text": [
      "Key: Deepak Value: 27th March\n",
      "Key: Bro Value: 1 Jan\n"
     ]
    }
   ],
   "source": [
    "for k, v in birthdays.items():\n",
    "    print('Key: ' + k + ' Value: ' + v)"
   ]
  },
  {
   "cell_type": "code",
   "execution_count": 21,
   "metadata": {},
   "outputs": [
    {
     "data": {
      "text/plain": [
       "True"
      ]
     },
     "execution_count": 21,
     "metadata": {},
     "output_type": "execute_result"
    }
   ],
   "source": [
    "'Deepak' in birthdays.keys()"
   ]
  },
  {
   "cell_type": "code",
   "execution_count": null,
   "metadata": {},
   "outputs": [],
   "source": []
  }
 ],
 "metadata": {
  "kernelspec": {
   "display_name": "Python 3",
   "language": "python",
   "name": "python3"
  },
  "language_info": {
   "codemirror_mode": {
    "name": "ipython",
    "version": 3
   },
   "file_extension": ".py",
   "mimetype": "text/x-python",
   "name": "python",
   "nbconvert_exporter": "python",
   "pygments_lexer": "ipython3",
   "version": "3.7.0"
  }
 },
 "nbformat": 4,
 "nbformat_minor": 2
}
