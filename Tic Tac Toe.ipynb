{
 "cells": [
  {
   "cell_type": "code",
   "execution_count": null,
   "metadata": {},
   "outputs": [],
   "source": [
    "theBoard = {'top-L' : ' ' , 'top-M' : ' ' , 'top-R' : ' ' ,\n",
    "            'mid-L' : ' ' , 'mid-M' : ' ' , 'mid-R' : ' ' ,\n",
    "            'low-L' : ' ' , 'low-M' : ' ' , 'low-R' : ' ' }"
   ]
  },
  {
   "cell_type": "code",
   "execution_count": null,
   "metadata": {},
   "outputs": [],
   "source": [
    "def printBoard(board):\n",
    "    print(board['top-L'] + '|' + board['top-M'] + '|' + board['top-R'])\n",
    "    print('-+-+-')\n",
    "    print(board['mid-L'] + '|' + board['mid-M'] + '|' + board['mid-R'])\n",
    "    print('-+-+-')\n",
    "    print(board['low-L'] + '|' + board['low-M'] + '|' + board['low-R'])"
   ]
  },
  {
   "cell_type": "code",
   "execution_count": null,
   "metadata": {},
   "outputs": [],
   "source": [
    "turn = 'X'\n",
    "for i in range(9):\n",
    "    printBoard(theBoard)\n",
    "    \n",
    "    if theBoard['top-L'] == theBoard['top-M'] == theBoard['top-R'] == turn:\n",
    "        print('Congratz ' + turn + ' PLAYER WON!!')\n",
    "    \n",
    "    print('Turn for Player ' + turn + ' ,Move on which place!!')\n",
    "    move = input()\n",
    "    theBoard[move] = turn\n",
    "    \n",
    "    if turn == 'X':\n",
    "        turn = 'O'\n",
    "    elif turn == 'O':\n",
    "        turn = 'X'\n"
   ]
  },
  {
   "cell_type": "code",
   "execution_count": null,
   "metadata": {},
   "outputs": [],
   "source": []
  }
 ],
 "metadata": {
  "kernelspec": {
   "display_name": "Python 3",
   "language": "python",
   "name": "python3"
  },
  "language_info": {
   "codemirror_mode": {
    "name": "ipython",
    "version": 3
   },
   "file_extension": ".py",
   "mimetype": "text/x-python",
   "name": "python",
   "nbconvert_exporter": "python",
   "pygments_lexer": "ipython3",
   "version": "3.7.0"
  }
 },
 "nbformat": 4,
 "nbformat_minor": 2
}
